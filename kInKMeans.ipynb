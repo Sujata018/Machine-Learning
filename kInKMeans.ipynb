{
  "nbformat": 4,
  "nbformat_minor": 0,
  "metadata": {
    "colab": {
      "name": "kInKMeans.ipynb",
      "provenance": [],
      "authorship_tag": "ABX9TyNZ0myA7pyM5GVZB7LFZ2u2",
      "include_colab_link": true
    },
    "kernelspec": {
      "name": "python3",
      "display_name": "Python 3"
    },
    "language_info": {
      "name": "python"
    }
  },
  "cells": [
    {
      "cell_type": "markdown",
      "metadata": {
        "id": "view-in-github",
        "colab_type": "text"
      },
      "source": [
        "<a href=\"https://colab.research.google.com/github/Sujata018/Machine-Learning/blob/main/kInKMeans.ipynb\" target=\"_parent\"><img src=\"https://colab.research.google.com/assets/colab-badge.svg\" alt=\"Open In Colab\"/></a>"
      ]
    },
    {
      "cell_type": "code",
      "metadata": {
        "id": "U-G5G4dpmfr7"
      },
      "source": [
        "from sklearn.datasets import load_iris\n",
        "from sklearn.cluster import KMeans\n",
        "from sklearn.metrics import silhouette_score\n",
        "from matplotlib import pyplot as plt "
      ],
      "execution_count": 51,
      "outputs": []
    },
    {
      "cell_type": "code",
      "metadata": {
        "colab": {
          "base_uri": "https://localhost:8080/",
          "height": 298
        },
        "id": "I1Ww41XsllKI",
        "outputId": "b1e66e5d-be44-476f-bbcd-89e0fd8fdf9c"
      },
      "source": [
        "## This program determines the optimum K for K-means clustering\n",
        "\n",
        "iris=load_iris()  # Load iris dataset\n",
        "\n",
        "maxK=10           # Maximum possible value of K\n",
        "\n",
        "## Determine optimum K by elbow method\n",
        "## Plot WSS (within class sum squared distance) against K, to identify \n",
        "## an elbow, beyond which WSS does not increase much, with increase in K\n",
        "\n",
        "plotdata=[]\n",
        "plotx=[]\n",
        "sdata=[]\n",
        "\n",
        "for k in range(2,maxK):\n",
        "  kmeans=KMeans(k).fit(iris['data'])\n",
        "  means = kmeans.cluster_centers_\n",
        "  labels=kmeans.labels_\n",
        " \n",
        "  wss=0\n",
        "  for i in range(len(iris['data'])):\n",
        "    for j in range(len(iris['data'][0])):\n",
        "        wss += (iris['data'][i][j]-means[labels[i]][j])**2  # Calculate wss for all iris flower data\n",
        "  plotdata.append(wss)                                      # wss values to be plotted in axis y of plot\n",
        "  plotx.append(k)                                           # k to be plotted in axis x of plot\n",
        "  sdata.append(silhouette_score(iris['data'],labels,metric='euclidean')) \n",
        "                                                            # sillhoutte score depicts how similar a point is to its own cluster compared to other clusters                                      \n",
        "\n",
        "plt.clf\n",
        "plt.subplot(121)\n",
        "plt.plot(plotx,plotdata)  \n",
        "plt.title(\"Elbow \")                                  # plot wss vs k\n",
        "plt.subplot(122)\n",
        "plt.plot(plotx,sdata)\n",
        "plt.title(\"Sillhoute\")                               # plot sillhoute_score vs k\n",
        "## The Elbow graph shows possible values of K as 3 or 4\n",
        "## Since the sillhoute score of 3 is higher than 4, K=3 is optimum"
      ],
      "execution_count": 59,
      "outputs": [
        {
          "output_type": "execute_result",
          "data": {
            "text/plain": [
              "Text(0.5, 1.0, 'Sillhoute')"
            ]
          },
          "metadata": {},
          "execution_count": 59
        },
        {
          "output_type": "display_data",
          "data": {
            "image/png": "[encoded data removed]",
            "text/plain": [
              "<Figure size 432x288 with 2 Axes>"
            ]
          },
          "metadata": {
            "needs_background": "light"
          }
        }
      ]
    }
  ]
}